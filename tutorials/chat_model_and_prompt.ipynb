{
 "cells": [
  {
   "cell_type": "markdown",
   "metadata": {},
   "source": [
    "# langchain官方教程1: 大模型提示词应用"
   ]
  },
  {
   "cell_type": "markdown",
   "metadata": {},
   "source": [
    "这里官方教程叫你用LangSmith 但是这个是需要调用外部服务的，一般公司都不允许，这里就不用了"
   ]
  },
  {
   "cell_type": "code",
   "execution_count": 1,
   "metadata": {},
   "outputs": [],
   "source": [
    "import requests\n",
    "from langchain_openai import ChatOpenAI\n",
    "from langchain_core.messages import AIMessage, SystemMessage, HumanMessage"
   ]
  },
  {
   "cell_type": "code",
   "execution_count": 2,
   "metadata": {},
   "outputs": [],
   "source": [
    "# 因为每个人启动的模型都不一样，通过这个请求可以确保拿到是对的model_name\n",
    "model_name = requests.get(\"http://localhost:8000/v1/models\").json()[\"data\"][0][\"id\"]"
   ]
  },
  {
   "cell_type": "code",
   "execution_count": 3,
   "metadata": {},
   "outputs": [
    {
     "data": {
      "text/plain": [
       "AIMessage(content='我是来自阿里云的大规模语言模型，我叫通义千问。很高兴能为你提供帮助！', additional_kwargs={'refusal': None}, response_metadata={'token_usage': {'completion_tokens': 23, 'prompt_tokens': 30, 'total_tokens': 53, 'completion_tokens_details': None, 'prompt_tokens_details': None}, 'model_name': 'Qwen/Qwen2.5-7B-Instruct', 'system_fingerprint': None, 'id': 'chatcmpl-e2f164323a8a4a0890b387c4f47fd4ab', 'finish_reason': 'stop', 'logprobs': None}, id='run-94d0d7ad-20fa-40fc-a834-ea5d0671dcfe-0', usage_metadata={'input_tokens': 30, 'output_tokens': 23, 'total_tokens': 53, 'input_token_details': {}, 'output_token_details': {}})"
      ]
     },
     "execution_count": 3,
     "metadata": {},
     "output_type": "execute_result"
    }
   ],
   "source": [
    "model = ChatOpenAI(\n",
    "    base_url=\"http://localhost:8000/v1\",\n",
    "    api_key=\"empty\",\n",
    "    model=model_name\n",
    ")\n",
    "\n",
    "messages = [\n",
    "    SystemMessage(\"你是一个友好的AI助手，可以高效的完成人类安排的工作\"),\n",
    "    HumanMessage(\"请问你是谁？\")\n",
    "]\n",
    "\n",
    "response = model.invoke(messages)\n",
    "response"
   ]
  },
  {
   "cell_type": "code",
   "execution_count": 4,
   "metadata": {},
   "outputs": [
    {
     "name": "stdout",
     "output_type": "stream",
     "text": [
      "content='我是Qwen，由阿里巴巴云开发的人工智能模型。我被设计用来辅助用户生成各种类型的文字内容，提供相关信息，以及进行语言交流等。我很高兴能够与你对话，有什么我可以帮助你的吗？' additional_kwargs={'refusal': None} response_metadata={'token_usage': {'completion_tokens': 48, 'prompt_tokens': 32, 'total_tokens': 80, 'completion_tokens_details': None, 'prompt_tokens_details': None}, 'model_name': 'Qwen/Qwen2.5-7B-Instruct', 'system_fingerprint': None, 'id': 'chatcmpl-deecb58ef7114c90b9011785aabde240', 'finish_reason': 'stop', 'logprobs': None} id='run-97e62c31-79c6-4f34-943b-e0b949b46faa-0' usage_metadata={'input_tokens': 32, 'output_tokens': 48, 'total_tokens': 80, 'input_token_details': {}, 'output_token_details': {}}\n",
      "content='你好！有什么我可以帮助你的吗？' additional_kwargs={'refusal': None} response_metadata={'token_usage': {'completion_tokens': 9, 'prompt_tokens': 30, 'total_tokens': 39, 'completion_tokens_details': None, 'prompt_tokens_details': None}, 'model_name': 'Qwen/Qwen2.5-7B-Instruct', 'system_fingerprint': None, 'id': 'chatcmpl-0f0f09f51d454c8b95ff5ef4cabf2615', 'finish_reason': 'stop', 'logprobs': None} id='run-ea8e5a8d-bc89-4383-9b26-3d7cf9a89ec7-0' usage_metadata={'input_tokens': 30, 'output_tokens': 9, 'total_tokens': 39, 'input_token_details': {}, 'output_token_details': {}}\n",
      "content='你好！有什么可以帮助你的吗？' additional_kwargs={'refusal': None} response_metadata={'token_usage': {'completion_tokens': 8, 'prompt_tokens': 30, 'total_tokens': 38, 'completion_tokens_details': None, 'prompt_tokens_details': None}, 'model_name': 'Qwen/Qwen2.5-7B-Instruct', 'system_fingerprint': None, 'id': 'chatcmpl-4c1d797b1e384aed9f331a14ac096f09', 'finish_reason': 'stop', 'logprobs': None} id='run-53b3eb95-d406-40ee-84ac-3ffc47b387ce-0' usage_metadata={'input_tokens': 30, 'output_tokens': 8, 'total_tokens': 38, 'input_token_details': {}, 'output_token_details': {}}\n"
     ]
    }
   ],
   "source": [
    "# 几种调用方法\n",
    "response = model.invoke(\n",
    "    [\n",
    "        {\n",
    "            \"role\": \"user\",\n",
    "            \"content\": \"你是谁？\"\n",
    "        }\n",
    "    ]\n",
    ")\n",
    "print(response)\n",
    "\n",
    "response = model.invoke(\n",
    "    \"你好\"\n",
    ")\n",
    "print(response)\n",
    "\n",
    "response = model.invoke([HumanMessage(\"你好\")])\n",
    "print(response)"
   ]
  },
  {
   "cell_type": "code",
   "execution_count": 5,
   "metadata": {},
   "outputs": [
    {
     "name": "stdout",
     "output_type": "stream",
     "text": [
      "content='' additional_kwargs={} response_metadata={} id='run-3029b03f-6f9f-4dc7-a680-523e2d888e8b'\n",
      "content='我是' additional_kwargs={} response_metadata={} id='run-3029b03f-6f9f-4dc7-a680-523e2d888e8b'\n",
      "content='Q' additional_kwargs={} response_metadata={} id='run-3029b03f-6f9f-4dc7-a680-523e2d888e8b'\n",
      "content='wen' additional_kwargs={} response_metadata={} id='run-3029b03f-6f9f-4dc7-a680-523e2d888e8b'\n",
      "content='，' additional_kwargs={} response_metadata={} id='run-3029b03f-6f9f-4dc7-a680-523e2d888e8b'\n",
      "content='由' additional_kwargs={} response_metadata={} id='run-3029b03f-6f9f-4dc7-a680-523e2d888e8b'\n",
      "content='阿里' additional_kwargs={} response_metadata={} id='run-3029b03f-6f9f-4dc7-a680-523e2d888e8b'\n",
      "content='云' additional_kwargs={} response_metadata={} id='run-3029b03f-6f9f-4dc7-a680-523e2d888e8b'\n",
      "content='开发' additional_kwargs={} response_metadata={} id='run-3029b03f-6f9f-4dc7-a680-523e2d888e8b'\n",
      "content='的人' additional_kwargs={} response_metadata={} id='run-3029b03f-6f9f-4dc7-a680-523e2d888e8b'\n",
      "content='工' additional_kwargs={} response_metadata={} id='run-3029b03f-6f9f-4dc7-a680-523e2d888e8b'\n",
      "content='智能' additional_kwargs={} response_metadata={} id='run-3029b03f-6f9f-4dc7-a680-523e2d888e8b'\n",
      "content='模型' additional_kwargs={} response_metadata={} id='run-3029b03f-6f9f-4dc7-a680-523e2d888e8b'\n",
      "content='。' additional_kwargs={} response_metadata={} id='run-3029b03f-6f9f-4dc7-a680-523e2d888e8b'\n",
      "content='我' additional_kwargs={} response_metadata={} id='run-3029b03f-6f9f-4dc7-a680-523e2d888e8b'\n",
      "content='被' additional_kwargs={} response_metadata={} id='run-3029b03f-6f9f-4dc7-a680-523e2d888e8b'\n",
      "content='设计' additional_kwargs={} response_metadata={} id='run-3029b03f-6f9f-4dc7-a680-523e2d888e8b'\n",
      "content='用于' additional_kwargs={} response_metadata={} id='run-3029b03f-6f9f-4dc7-a680-523e2d888e8b'\n",
      "content='生成' additional_kwargs={} response_metadata={} id='run-3029b03f-6f9f-4dc7-a680-523e2d888e8b'\n",
      "content='各种' additional_kwargs={} response_metadata={} id='run-3029b03f-6f9f-4dc7-a680-523e2d888e8b'\n",
      "content='类型的' additional_kwargs={} response_metadata={} id='run-3029b03f-6f9f-4dc7-a680-523e2d888e8b'\n",
      "content='文本' additional_kwargs={} response_metadata={} id='run-3029b03f-6f9f-4dc7-a680-523e2d888e8b'\n",
      "content='，' additional_kwargs={} response_metadata={} id='run-3029b03f-6f9f-4dc7-a680-523e2d888e8b'\n",
      "content='例如' additional_kwargs={} response_metadata={} id='run-3029b03f-6f9f-4dc7-a680-523e2d888e8b'\n",
      "content='回答' additional_kwargs={} response_metadata={} id='run-3029b03f-6f9f-4dc7-a680-523e2d888e8b'\n",
      "content='问题' additional_kwargs={} response_metadata={} id='run-3029b03f-6f9f-4dc7-a680-523e2d888e8b'\n",
      "content='、' additional_kwargs={} response_metadata={} id='run-3029b03f-6f9f-4dc7-a680-523e2d888e8b'\n",
      "content='撰写' additional_kwargs={} response_metadata={} id='run-3029b03f-6f9f-4dc7-a680-523e2d888e8b'\n",
      "content='文章' additional_kwargs={} response_metadata={} id='run-3029b03f-6f9f-4dc7-a680-523e2d888e8b'\n",
      "content='、' additional_kwargs={} response_metadata={} id='run-3029b03f-6f9f-4dc7-a680-523e2d888e8b'\n",
      "content='创作' additional_kwargs={} response_metadata={} id='run-3029b03f-6f9f-4dc7-a680-523e2d888e8b'\n",
      "content='故事' additional_kwargs={} response_metadata={} id='run-3029b03f-6f9f-4dc7-a680-523e2d888e8b'\n",
      "content='等' additional_kwargs={} response_metadata={} id='run-3029b03f-6f9f-4dc7-a680-523e2d888e8b'\n",
      "content='。' additional_kwargs={} response_metadata={} id='run-3029b03f-6f9f-4dc7-a680-523e2d888e8b'\n",
      "content='我可以' additional_kwargs={} response_metadata={} id='run-3029b03f-6f9f-4dc7-a680-523e2d888e8b'\n",
      "content='帮助' additional_kwargs={} response_metadata={} id='run-3029b03f-6f9f-4dc7-a680-523e2d888e8b'\n",
      "content='用户' additional_kwargs={} response_metadata={} id='run-3029b03f-6f9f-4dc7-a680-523e2d888e8b'\n",
      "content='提高' additional_kwargs={} response_metadata={} id='run-3029b03f-6f9f-4dc7-a680-523e2d888e8b'\n",
      "content='效率' additional_kwargs={} response_metadata={} id='run-3029b03f-6f9f-4dc7-a680-523e2d888e8b'\n",
      "content='，' additional_kwargs={} response_metadata={} id='run-3029b03f-6f9f-4dc7-a680-523e2d888e8b'\n",
      "content='激发' additional_kwargs={} response_metadata={} id='run-3029b03f-6f9f-4dc7-a680-523e2d888e8b'\n",
      "content='创意' additional_kwargs={} response_metadata={} id='run-3029b03f-6f9f-4dc7-a680-523e2d888e8b'\n",
      "content='。' additional_kwargs={} response_metadata={} id='run-3029b03f-6f9f-4dc7-a680-523e2d888e8b'\n",
      "content='请问' additional_kwargs={} response_metadata={} id='run-3029b03f-6f9f-4dc7-a680-523e2d888e8b'\n",
      "content='有什么' additional_kwargs={} response_metadata={} id='run-3029b03f-6f9f-4dc7-a680-523e2d888e8b'\n",
      "content='我可以' additional_kwargs={} response_metadata={} id='run-3029b03f-6f9f-4dc7-a680-523e2d888e8b'\n",
      "content='帮助' additional_kwargs={} response_metadata={} id='run-3029b03f-6f9f-4dc7-a680-523e2d888e8b'\n",
      "content='您的' additional_kwargs={} response_metadata={} id='run-3029b03f-6f9f-4dc7-a680-523e2d888e8b'\n",
      "content='吗' additional_kwargs={} response_metadata={} id='run-3029b03f-6f9f-4dc7-a680-523e2d888e8b'\n",
      "content='？' additional_kwargs={} response_metadata={} id='run-3029b03f-6f9f-4dc7-a680-523e2d888e8b'\n",
      "content='' additional_kwargs={} response_metadata={'finish_reason': 'stop', 'model_name': 'Qwen/Qwen2.5-7B-Instruct'} id='run-3029b03f-6f9f-4dc7-a680-523e2d888e8b'\n",
      "content='' additional_kwargs={} response_metadata={} id='run-c0f3e3d0-c5ba-4ec0-84b3-d695d63beb12'\n",
      "content='你好' additional_kwargs={} response_metadata={} id='run-c0f3e3d0-c5ba-4ec0-84b3-d695d63beb12'\n",
      "content='！' additional_kwargs={} response_metadata={} id='run-c0f3e3d0-c5ba-4ec0-84b3-d695d63beb12'\n",
      "content='很高兴' additional_kwargs={} response_metadata={} id='run-c0f3e3d0-c5ba-4ec0-84b3-d695d63beb12'\n",
      "content='为你' additional_kwargs={} response_metadata={} id='run-c0f3e3d0-c5ba-4ec0-84b3-d695d63beb12'\n",
      "content='服务' additional_kwargs={} response_metadata={} id='run-c0f3e3d0-c5ba-4ec0-84b3-d695d63beb12'\n",
      "content='。' additional_kwargs={} response_metadata={} id='run-c0f3e3d0-c5ba-4ec0-84b3-d695d63beb12'\n",
      "content='有什么' additional_kwargs={} response_metadata={} id='run-c0f3e3d0-c5ba-4ec0-84b3-d695d63beb12'\n",
      "content='可以' additional_kwargs={} response_metadata={} id='run-c0f3e3d0-c5ba-4ec0-84b3-d695d63beb12'\n",
      "content='帮你' additional_kwargs={} response_metadata={} id='run-c0f3e3d0-c5ba-4ec0-84b3-d695d63beb12'\n",
      "content='解答' additional_kwargs={} response_metadata={} id='run-c0f3e3d0-c5ba-4ec0-84b3-d695d63beb12'\n",
      "content='的问题' additional_kwargs={} response_metadata={} id='run-c0f3e3d0-c5ba-4ec0-84b3-d695d63beb12'\n",
      "content='或者' additional_kwargs={} response_metadata={} id='run-c0f3e3d0-c5ba-4ec0-84b3-d695d63beb12'\n",
      "content='提供' additional_kwargs={} response_metadata={} id='run-c0f3e3d0-c5ba-4ec0-84b3-d695d63beb12'\n",
      "content='帮助' additional_kwargs={} response_metadata={} id='run-c0f3e3d0-c5ba-4ec0-84b3-d695d63beb12'\n",
      "content='的' additional_kwargs={} response_metadata={} id='run-c0f3e3d0-c5ba-4ec0-84b3-d695d63beb12'\n",
      "content='呢' additional_kwargs={} response_metadata={} id='run-c0f3e3d0-c5ba-4ec0-84b3-d695d63beb12'\n",
      "content='？' additional_kwargs={} response_metadata={} id='run-c0f3e3d0-c5ba-4ec0-84b3-d695d63beb12'\n",
      "content='' additional_kwargs={} response_metadata={'finish_reason': 'stop', 'model_name': 'Qwen/Qwen2.5-7B-Instruct'} id='run-c0f3e3d0-c5ba-4ec0-84b3-d695d63beb12'\n",
      "content='' additional_kwargs={} response_metadata={} id='run-0d8aa775-d745-41f9-9c0b-e2efad7464af'\n",
      "content='你好' additional_kwargs={} response_metadata={} id='run-0d8aa775-d745-41f9-9c0b-e2efad7464af'\n",
      "content='！' additional_kwargs={} response_metadata={} id='run-0d8aa775-d745-41f9-9c0b-e2efad7464af'\n",
      "content='有什么' additional_kwargs={} response_metadata={} id='run-0d8aa775-d745-41f9-9c0b-e2efad7464af'\n",
      "content='可以' additional_kwargs={} response_metadata={} id='run-0d8aa775-d745-41f9-9c0b-e2efad7464af'\n",
      "content='帮你' additional_kwargs={} response_metadata={} id='run-0d8aa775-d745-41f9-9c0b-e2efad7464af'\n",
      "content='解决' additional_kwargs={} response_metadata={} id='run-0d8aa775-d745-41f9-9c0b-e2efad7464af'\n",
      "content='的问题' additional_kwargs={} response_metadata={} id='run-0d8aa775-d745-41f9-9c0b-e2efad7464af'\n",
      "content='或者' additional_kwargs={} response_metadata={} id='run-0d8aa775-d745-41f9-9c0b-e2efad7464af'\n",
      "content='聊' additional_kwargs={} response_metadata={} id='run-0d8aa775-d745-41f9-9c0b-e2efad7464af'\n",
      "content='一' additional_kwargs={} response_metadata={} id='run-0d8aa775-d745-41f9-9c0b-e2efad7464af'\n",
      "content='聊' additional_kwargs={} response_metadata={} id='run-0d8aa775-d745-41f9-9c0b-e2efad7464af'\n",
      "content='的' additional_kwargs={} response_metadata={} id='run-0d8aa775-d745-41f9-9c0b-e2efad7464af'\n",
      "content='吗' additional_kwargs={} response_metadata={} id='run-0d8aa775-d745-41f9-9c0b-e2efad7464af'\n",
      "content='？' additional_kwargs={} response_metadata={} id='run-0d8aa775-d745-41f9-9c0b-e2efad7464af'\n",
      "content='' additional_kwargs={} response_metadata={'finish_reason': 'stop', 'model_name': 'Qwen/Qwen2.5-7B-Instruct'} id='run-0d8aa775-d745-41f9-9c0b-e2efad7464af'\n"
     ]
    }
   ],
   "source": [
    "messages = [\n",
    "        {\n",
    "            \"role\": \"user\",\n",
    "            \"content\": \"你是谁？\"\n",
    "        }\n",
    "    ]\n",
    "for token in model.stream(messages):\n",
    "    print(token)\n",
    "    \n",
    "messages = \"你好\"\n",
    "for token in model.stream(messages):\n",
    "    print(token)\n",
    "    \n",
    "messages = [HumanMessage(\"你好\")]\n",
    "for token in model.stream(messages):\n",
    "    print(token)"
   ]
  },
  {
   "cell_type": "markdown",
   "metadata": {},
   "source": [
    "## 提示词工程"
   ]
  },
  {
   "cell_type": "code",
   "execution_count": 6,
   "metadata": {},
   "outputs": [],
   "source": [
    "from langchain_core.prompts import ChatPromptTemplate"
   ]
  },
  {
   "cell_type": "code",
   "execution_count": 7,
   "metadata": {},
   "outputs": [
    {
     "data": {
      "text/plain": [
       "ChatPromptValue(messages=[SystemMessage(content='请你帮我将用户的输入翻译成英文', additional_kwargs={}, response_metadata={}), HumanMessage(content='锄禾日当午', additional_kwargs={}, response_metadata={})])"
      ]
     },
     "execution_count": 7,
     "metadata": {},
     "output_type": "execute_result"
    }
   ],
   "source": [
    "system_template = \"请你帮我将用户的输入翻译成{language}\"\n",
    "prompt_template = ChatPromptTemplate.from_messages(\n",
    "    [\n",
    "        (\"system\", system_template),\n",
    "        (\"user\", \"{text}\")\n",
    "    ]\n",
    ")\n",
    "prompt = prompt_template.invoke({\"language\": \"英文\", \"text\": \"锄禾日当午\"})\n",
    "prompt"
   ]
  },
  {
   "cell_type": "code",
   "execution_count": 8,
   "metadata": {},
   "outputs": [
    {
     "data": {
      "text/plain": [
       "[SystemMessage(content='请你帮我将用户的输入翻译成英文', additional_kwargs={}, response_metadata={}),\n",
       " HumanMessage(content='锄禾日当午', additional_kwargs={}, response_metadata={})]"
      ]
     },
     "execution_count": 8,
     "metadata": {},
     "output_type": "execute_result"
    }
   ],
   "source": [
    "prompt.to_messages()"
   ]
  },
  {
   "cell_type": "code",
   "execution_count": 9,
   "metadata": {},
   "outputs": [
    {
     "data": {
      "text/plain": [
       "AIMessage(content='/example/ 这句话对应的英文翻译为:锄禾日当午 Translating the user input to English, the phrase \"锄禾日当午\" can be rendered as: \"Weeding the rice fields when the sun is at its peak.\"', additional_kwargs={'refusal': None}, response_metadata={'token_usage': {'completion_tokens': 53, 'prompt_tokens': 26, 'total_tokens': 79, 'completion_tokens_details': None, 'prompt_tokens_details': None}, 'model_name': 'Qwen/Qwen2.5-7B-Instruct', 'system_fingerprint': None, 'id': 'chatcmpl-375fab55de7c4741ac3d925dc0c9ad4d', 'finish_reason': 'stop', 'logprobs': None}, id='run-b6672358-5b82-40e7-9e18-df0186aeb612-0', usage_metadata={'input_tokens': 26, 'output_tokens': 53, 'total_tokens': 79, 'input_token_details': {}, 'output_token_details': {}})"
      ]
     },
     "execution_count": 9,
     "metadata": {},
     "output_type": "execute_result"
    }
   ],
   "source": [
    "model.invoke(prompt)"
   ]
  },
  {
   "cell_type": "code",
   "execution_count": null,
   "metadata": {},
   "outputs": [],
   "source": []
  }
 ],
 "metadata": {
  "kernelspec": {
   "display_name": "langchain_study",
   "language": "python",
   "name": "python3"
  },
  "language_info": {
   "codemirror_mode": {
    "name": "ipython",
    "version": 3
   },
   "file_extension": ".py",
   "mimetype": "text/x-python",
   "name": "python",
   "nbconvert_exporter": "python",
   "pygments_lexer": "ipython3",
   "version": "3.12.9"
  }
 },
 "nbformat": 4,
 "nbformat_minor": 2
}
